{
 "cells": [
  {
   "cell_type": "code",
   "execution_count": 1,
   "metadata": {},
   "outputs": [
    {
     "data": {
      "text/plain": [
       "True"
      ]
     },
     "execution_count": 1,
     "metadata": {},
     "output_type": "execute_result"
    }
   ],
   "source": [
    "from dotenv import load_dotenv\n",
    "\n",
    "load_dotenv()"
   ]
  },
  {
   "cell_type": "code",
   "execution_count": null,
   "metadata": {},
   "outputs": [
    {
     "data": {
      "text/plain": [
       "AIMessage(content='병원은 의료 서비스와 치료를 제공하는 시설입니다. 환자가 신체적 또는 정신적 건강 문제를 진단받고 치료받기 위해 방문하는 곳으로, 의사, 간호사 및 기타 의료 전문가들이 근무합니다. 병원에서는 감염병 치료, 수술, 응급 의료, 진단 검사 등의 다양한 서비스가 제공되며, 환자의 회복을 지원하기 위한 입원 시설도 마련되어 있습니다.', additional_kwargs={'refusal': None}, response_metadata={'token_usage': {'completion_tokens': 95, 'prompt_tokens': 22, 'total_tokens': 117, 'completion_tokens_details': {'accepted_prediction_tokens': 0, 'audio_tokens': 0, 'reasoning_tokens': 0, 'rejected_prediction_tokens': 0}, 'prompt_tokens_details': {'audio_tokens': 0, 'cached_tokens': 0}}, 'model_name': 'gpt-4o-mini-2024-07-18', 'system_fingerprint': 'fp_0392822090', 'finish_reason': 'stop', 'logprobs': None}, id='run--2d171db5-aaec-4e79-9f05-3e5177e5c928-0', usage_metadata={'input_tokens': 22, 'output_tokens': 95, 'total_tokens': 117, 'input_token_details': {'audio': 0, 'cache_read': 0}, 'output_token_details': {'audio': 0, 'reasoning': 0}})"
      ]
     },
     "execution_count": 2,
     "metadata": {},
     "output_type": "execute_result"
    }
   ],
   "source": [
    "from langchain_openai import ChatOpenAI\n",
    "from langchain_core.prompts import PromptTemplate\n",
    "\n",
    "llm = ChatOpenAI(model=\"gpt-4o-mini\")\n",
    "prompt_template = PromptTemplate.from_template(\n",
    "    \"입력한 단어에 대해서 간단히 설명하세요 : {word}\"\n",
    ")\n",
    "\n",
    "chain = prompt_template | llm\n",
    "chain.invoke(\n",
    "    {\n",
    "        \"word\": \"병원\"\n",
    "    }\n",
    ")\n",
    "\n"
   ]
  },
  {
   "cell_type": "code",
   "execution_count": 4,
   "metadata": {},
   "outputs": [
    {
     "data": {
      "text/plain": [
       "'병원은 질병이나 부상을 치료하고, 의료 서비스를 제공하는 기관입니다. 환자를 진료하는 의사, 간호사, 기타 의료 전문가들이 있으며, 진단, 치료, 수술, 재활 등 다양한 의료 서비스를 제공합니다. 또한, 병원은 응급 상황에 대처할 수 있는 응급실을 운영하기도 하며, 입원환자를 위한 병동과 외래환자를 위한 진료과도 구비하고 있습니다. 일반적으로 병원은 공공과 민간으로 나뉘며, 규모에 따라 소형 병원부터 대형 종합병원까지 다양합니다.'"
      ]
     },
     "execution_count": 4,
     "metadata": {},
     "output_type": "execute_result"
    }
   ],
   "source": [
    "from langchain_core.output_parsers import StrOutputParser\n",
    "parser = StrOutputParser()\n",
    "\n",
    "chain = prompt_template | llm | parser\n",
    "chain.invoke({\"word\" : \"병원\"})"
   ]
  }
 ],
 "metadata": {
  "kernelspec": {
   "display_name": "Pyhton (conda-myenv)",
   "language": "python",
   "name": "myenv"
  },
  "language_info": {
   "codemirror_mode": {
    "name": "ipython",
    "version": 3
   },
   "file_extension": ".py",
   "mimetype": "text/x-python",
   "name": "python",
   "nbconvert_exporter": "python",
   "pygments_lexer": "ipython3",
   "version": "3.11.11"
  }
 },
 "nbformat": 4,
 "nbformat_minor": 2
}
