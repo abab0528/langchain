{
 "cells": [
  {
   "cell_type": "code",
   "execution_count": 1,
   "metadata": {},
   "outputs": [
    {
     "data": {
      "text/plain": [
       "True"
      ]
     },
     "execution_count": 1,
     "metadata": {},
     "output_type": "execute_result"
    }
   ],
   "source": [
    "from dotenv import load_dotenv\n",
    "load_dotenv()"
   ]
  },
  {
   "cell_type": "code",
   "execution_count": 2,
   "metadata": {},
   "outputs": [],
   "source": [
    "from langchain_openai import ChatOpenAI\n",
    "from langchain_core.output_parsers import StrOutputParser\n",
    "\n",
    "llm = ChatOpenAI(model=\"gpt-4o-mini\")\n",
    "parser = StrOutputParser()\n",
    "\n",
    "chain = llm | parser"
   ]
  },
  {
   "cell_type": "code",
   "execution_count": 3,
   "metadata": {},
   "outputs": [
    {
     "data": {
      "text/plain": [
       "'수영 가는 것이 정말 좋네요! 건강에도 좋고 스트레스 해소에도 도움이 될 거예요. 어떤 수영장에 가실 예정인가요? 혹시 수영을 배우는 중이신가요?'"
      ]
     },
     "execution_count": 3,
     "metadata": {},
     "output_type": "execute_result"
    }
   ],
   "source": [
    "from langchain_core.messages import HumanMessage, AIMessage\n",
    "chain.invoke(\n",
    "    [\n",
    "        HumanMessage(content=\"내일은 수영을 가야지!\")\n",
    "    ]\n",
    ")\n"
   ]
  },
  {
   "cell_type": "code",
   "execution_count": 4,
   "metadata": {},
   "outputs": [
    {
     "data": {
      "text/plain": [
       "'죄송하지만, 제가 사용자님의 개인적인 일정이나 계획을 알 수 있는 방법은 없습니다. 내일 어떤 일을 할 예정인지 기억이 나지 않으시면, 메모장이나 캘린더 앱을 확인해 보시는 것이 좋겠어요. 도움이 필요하시면 말씀해 주세요!'"
      ]
     },
     "execution_count": 4,
     "metadata": {},
     "output_type": "execute_result"
    }
   ],
   "source": [
    "chain.invoke(\n",
    "    [\n",
    "        HumanMessage(content=\"내일 뭐하러 간다고 했지?\")\n",
    "    ]\n",
    ")"
   ]
  },
  {
   "cell_type": "code",
   "execution_count": 5,
   "metadata": {},
   "outputs": [
    {
     "data": {
      "text/plain": [
       "'내일 수영을 가신다고 하셨어요! 수영을 통해 운동도 하고 즐거운 시간을 보내실 수 있을 것 같네요. 필요하신 준비물은 다 챙기셨나요?'"
      ]
     },
     "execution_count": 5,
     "metadata": {},
     "output_type": "execute_result"
    }
   ],
   "source": [
    "chain.invoke(\n",
    "    [\n",
    "        HumanMessage(content=\"내일은 수영을 가야지!\"),\n",
    "        AIMessage(content=\"수영 가는 것이 정말 좋네요! 건강에도 좋고 스트레스 해소에도 도움이 될 거예요. 어떤 수영장에 가실 예정인가요? 혹시 수영을 배우는 중이신가요?\"),\n",
    "        HumanMessage(content=\"내일 뭐하러 간다고 했지?\")\n",
    "    ]\n",
    ")"
   ]
  }
 ],
 "metadata": {
  "kernelspec": {
   "display_name": "Pyhton (conda-myenv)",
   "language": "python",
   "name": "myenv"
  },
  "language_info": {
   "codemirror_mode": {
    "name": "ipython",
    "version": 3
   },
   "file_extension": ".py",
   "mimetype": "text/x-python",
   "name": "python",
   "nbconvert_exporter": "python",
   "pygments_lexer": "ipython3",
   "version": "3.11.11"
  }
 },
 "nbformat": 4,
 "nbformat_minor": 2
}
